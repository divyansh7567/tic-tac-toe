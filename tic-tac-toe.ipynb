{
 "cells": [
  {
   "cell_type": "code",
   "execution_count": 3,
   "metadata": {},
   "outputs": [],
   "source": [
    "#hello there\n",
    "from IPython.display import clear_output\n",
    "\n",
    "def display_board(board):\n",
    "    clear_output()\n",
    "    print(board[7],\"|\",board[8],\"|\",board[9])\n",
    "    print(\"----------\")\n",
    "    print(board[4],\"|\",board[5],\"|\",board[6])\n",
    "    print(\"----------\")\n",
    "    print(board[1],\"|\",board[2],\"|\",board[3])\n",
    "\n"
   ]
  },
  {
   "cell_type": "code",
   "execution_count": 4,
   "metadata": {},
   "outputs": [
    {
     "name": "stdout",
     "output_type": "stream",
     "text": [
      "X | X | X\n",
      "----------\n",
      "X | X | X\n",
      "----------\n",
      "X | X | X\n"
     ]
    }
   ],
   "source": [
    "test_board= [\"#\",\"X\",\"X\",\"X\",\"X\",\"X\",\"X\",\"X\",\"X\",\"X\"]\n",
    "display_board(test_board)"
   ]
  },
  {
   "cell_type": "code",
   "execution_count": 5,
   "metadata": {},
   "outputs": [],
   "source": [
    "def player_input():\n",
    "\n",
    "    '''\n",
    "    OUTPUT = ( player1_marker , player2_marker )\n",
    "    '''\n",
    "    marker= ''\n",
    "    while not(marker =='X' or marker =='O'):\n",
    "        marker= input('Player1: enter X or O:').upper()\n",
    "\n",
    "    if marker == 'X':\n",
    "        return ('X','O')\n",
    "    \n",
    "    else:\n",
    "        return ('O','X')"
   ]
  },
  {
   "cell_type": "code",
   "execution_count": 6,
   "metadata": {},
   "outputs": [],
   "source": [
    "def place_marker(board, marker, position):\n",
    "    board[position]= marker"
   ]
  },
  {
   "cell_type": "code",
   "execution_count": 7,
   "metadata": {},
   "outputs": [],
   "source": [
    "place_marker(test_board, \"@\", 5)"
   ]
  },
  {
   "cell_type": "code",
   "execution_count": 8,
   "metadata": {},
   "outputs": [
    {
     "name": "stdout",
     "output_type": "stream",
     "text": [
      "X | X | X\n",
      "----------\n",
      "X | @ | X\n",
      "----------\n",
      "X | X | X\n"
     ]
    }
   ],
   "source": [
    "display_board(test_board)"
   ]
  },
  {
   "cell_type": "code",
   "execution_count": 9,
   "metadata": {},
   "outputs": [],
   "source": [
    "# define win condition\n",
    "def win_check(board, mark):\n",
    "    #all rows , columns, and 2 diagonals\n",
    "    return ((board[1] == board[2] == board[3] == mark) or#rows\n",
    "    (board[4] == board[5] == board[6] == mark) or#rows\n",
    "    (board[7] == board[8] == board[9] == mark) or#rows\n",
    "    (board[1] == board[4] == board[7] == mark) or#columns\n",
    "    (board[2] == board[5] == board[8] == mark) or#columns\n",
    "    (board[3] == board[6] == board[9] == mark) or#columns\n",
    "    (board[1] == board[5] == board[9] == mark) or#diagonals\n",
    "    (board[7] == board[5] == board[3] == mark))#diagonals\n",
    "    "
   ]
  },
  {
   "cell_type": "code",
   "execution_count": 10,
   "metadata": {},
   "outputs": [
    {
     "data": {
      "text/plain": [
       "True"
      ]
     },
     "execution_count": 10,
     "metadata": {},
     "output_type": "execute_result"
    }
   ],
   "source": [
    "win_check(test_board, 'X')"
   ]
  },
  {
   "cell_type": "code",
   "execution_count": 11,
   "metadata": {},
   "outputs": [],
   "source": [
    "# coin flip to decide which player goes first\n",
    "import random\n",
    "\n",
    "def choose_first():\n",
    "    flip= random.randint(0,1)\n",
    "    if flip==0:\n",
    "        return 'Player1'\n",
    "    else:\n",
    "        return 'Player2'"
   ]
  },
  {
   "cell_type": "code",
   "execution_count": 12,
   "metadata": {},
   "outputs": [],
   "source": [
    "# function to check whether a place on the board is empty or not\n",
    "def space_check(board, position):\n",
    "    return board[position]== ' '"
   ]
  },
  {
   "cell_type": "code",
   "execution_count": 13,
   "metadata": {},
   "outputs": [],
   "source": [
    "# function to check if the board is full\n",
    "def full_board_check(board):\n",
    "    for i in range(1,10):\n",
    "        if space_check(board,i):\n",
    "            return False\n",
    "    return True"
   ]
  },
  {
   "cell_type": "code",
   "execution_count": 14,
   "metadata": {},
   "outputs": [],
   "source": [
    "# the player will enter his choice\n",
    "def player_choice(board):\n",
    "    position= 0\n",
    "    while position not in [1,2,3,4,5,6,7,8,9] or not space_check(board, position):\n",
    "        position= int (input(\"enter the position(1-9): \"))\n",
    "    return position"
   ]
  },
  {
   "cell_type": "code",
   "execution_count": 15,
   "metadata": {},
   "outputs": [],
   "source": [
    "#replay \n",
    "def replay():\n",
    "    choice= input('play again? yes or no: ')\n",
    "    return choice== 'yes'\n",
    "\n"
   ]
  },
  {
   "cell_type": "code",
   "execution_count": 16,
   "metadata": {},
   "outputs": [
    {
     "name": "stdout",
     "output_type": "stream",
     "text": [
      "O |   |  \n",
      "----------\n",
      "X | O | X\n",
      "----------\n",
      "O | X | O\n",
      "Player 2 Wins\n"
     ]
    }
   ],
   "source": [
    "#combining all the functions\n",
    "\n",
    "#while loop to keep the game running\n",
    "print(\"welcome to noughts and crosses\")\n",
    "while True:\n",
    "    #playing the game\n",
    "    the_board= [' ']*10\n",
    "    player1_marker, player2_marker= player_input()\n",
    "    #deciding the players\n",
    "    turn= choose_first()\n",
    "\n",
    "    print(turn,'will go first')\n",
    "\n",
    "    play_game= input('ready to play? y or n')\n",
    "    if play_game== 'y':\n",
    "        game_on= True\n",
    "    else:\n",
    "        game_on= False\n",
    "    \n",
    "    #gameplay\n",
    "    while game_on:\n",
    "        if turn == 'Player1':\n",
    "            #show the board\n",
    "            display_board(the_board)\n",
    "            #choose position\n",
    "            position= player_choice(the_board)\n",
    "            #place the marker on the position\n",
    "            place_marker(the_board,player1_marker,position)\n",
    "            #check if they won\n",
    "            if win_check(the_board, player1_marker):\n",
    "                display_board(the_board)\n",
    "                print('Player 1 Wins')\n",
    "                game_on = False\n",
    "            #check if there is a tie\n",
    "            #if no tie and no win, then next player's turn\n",
    "            else:\n",
    "                if full_board_check(the_board):\n",
    "                    display_board(the_board)\n",
    "                    print('TIE')\n",
    "                    game_on= False\n",
    "                else:\n",
    "                    turn = 'Player2'\n",
    "        else:\n",
    "            #show the board\n",
    "            display_board(the_board)\n",
    "            #choose position\n",
    "            position= player_choice(the_board)\n",
    "            #place the marker on the position\n",
    "            place_marker(the_board,player2_marker,position)\n",
    "            #check if they won\n",
    "            if win_check(the_board, player2_marker):\n",
    "                display_board(the_board)\n",
    "                print('Player 2 Wins')\n",
    "                game_on = False\n",
    "            #check if there is a tie\n",
    "            #if no tie and no win, then next player's turn\n",
    "            else:\n",
    "                if full_board_check(the_board):\n",
    "                    display_board(the_board)\n",
    "                    print('TIE')\n",
    "                    game_on= False\n",
    "                else:\n",
    "                    turn = 'Player1'\n",
    "\n",
    "\n",
    "            \n",
    "        \n",
    "    if not replay():\n",
    "        break\n",
    "\n",
    "#break out of the loop using the replay() function"
   ]
  }
 ],
 "metadata": {
  "kernelspec": {
   "display_name": "Python 3",
   "language": "python",
   "name": "python3"
  },
  "language_info": {
   "codemirror_mode": {
    "name": "ipython",
    "version": 3
   },
   "file_extension": ".py",
   "mimetype": "text/x-python",
   "name": "python",
   "nbconvert_exporter": "python",
   "pygments_lexer": "ipython3",
   "version": "3.11.9"
  }
 },
 "nbformat": 4,
 "nbformat_minor": 2
}
